{
 "cells": [
  {
   "cell_type": "code",
   "execution_count": 18,
   "metadata": {},
   "outputs": [],
   "source": [
    "import torch\n",
    "from torch.utils.data import DataLoader\n",
    "from transformers import AutoTokenizer, AutoModelForSequenceClassification, DataCollatorWithPadding\n",
    "from datasets import load_dataset\n",
    "from sklearn.metrics import accuracy_score, f1_score, hamming_loss\n",
    "from sklearn.preprocessing import MultiLabelBinarizer\n",
    "from datasets import Dataset, DatasetDict\n",
    "from tqdm import tqdm\n",
    "import wandb\n",
    "import pandas as pd\n",
    "import numpy as np"
   ]
  },
  {
   "cell_type": "code",
   "execution_count": 2,
   "metadata": {},
   "outputs": [
    {
     "name": "stdout",
     "output_type": "stream",
     "text": [
      "2.7.1+cu118\n",
      "GPU available: True\n",
      "GPU name: NVIDIA GeForce RTX 4060 Ti\n"
     ]
    }
   ],
   "source": [
    "print(torch.__version__)\n",
    "print(\"GPU available:\", torch.cuda.is_available())\n",
    "print(\"GPU name:\", torch.cuda.get_device_name(0))\n"
   ]
  },
  {
   "cell_type": "code",
   "execution_count": 4,
   "metadata": {},
   "outputs": [],
   "source": [
    "train = pd.read_csv(r\"D:\\train.tsv\", delimiter='\\t',header=None)\n",
    "dev = pd.read_csv(r\"D:\\dev.tsv\", delimiter='\\t', header=None)\n",
    "test = pd.read_csv(r\"D:\\test.tsv\", delimiter='\\t', header=None)\n",
    "\n",
    "columns = ['text', 'labels', 'id']\n",
    "\n",
    "train.columns = columns\n",
    "dev.columns = columns\n",
    "test.columns = columns"
   ]
  },
  {
   "cell_type": "code",
   "execution_count": 5,
   "metadata": {},
   "outputs": [],
   "source": [
    "train.drop('id', axis=1, inplace=True)\n",
    "dev.drop('id', axis=1, inplace=True)\n",
    "test.drop('id', axis=1, inplace=True)"
   ]
  },
  {
   "cell_type": "code",
   "execution_count": 6,
   "metadata": {},
   "outputs": [],
   "source": [
    "# ===== 3) Mapping 28 → 7 labels =====\n",
    "emotion_list = [\n",
    "    \"admiration\", \"amusement\", \"anger\", \"annoyance\", \"approval\", \"caring\", \"confusion\",\n",
    "    \"curiosity\", \"desire\", \"disappointment\", \"disapproval\", \"disgust\", \"embarrassment\",\n",
    "    \"excitement\", \"fear\", \"gratitude\", \"grief\", \"joy\", \"love\", \"nervousness\", \"optimism\",\n",
    "    \"pride\", \"realization\", \"relief\", \"remorse\", \"sadness\", \"surprise\", \"neutral\"\n",
    "]\n",
    "\n",
    "ekman_mapping = {\n",
    "    \"anger\": [\"anger\", \"annoyance\", \"disapproval\"],\n",
    "    \"disgust\": [\"disgust\"],\n",
    "    \"fear\": [\"fear\", \"nervousness\", \"confusion\"],\n",
    "    \"joy\": [\"admiration\", \"amusement\", \"approval\", \"caring\", \"desire\", \"excitement\",\n",
    "            \"gratitude\", \"joy\", \"love\", \"optimism\", \"pride\", \"relief\"],\n",
    "    \"sadness\": [\"sadness\", \"disappointment\", \"embarrassment\", \"grief\", \"remorse\"],\n",
    "    \"surprise\": [\"surprise\", \"realization\", \"curiosity\"],\n",
    "    \"neutral\": [\"neutral\"]\n",
    "}\n",
    "\n",
    "ekman_to_index = {k: i for i, k in enumerate(ekman_mapping.keys())}"
   ]
  },
  {
   "cell_type": "code",
   "execution_count": 7,
   "metadata": {},
   "outputs": [],
   "source": [
    "def map_labels(labels):\n",
    "    new_id_label = []\n",
    "    emotions = labels.split(',')\n",
    "    for label in emotions:\n",
    "        label = emotion_list[int(label)]\n",
    "        new_label = [ekman_to_index[k] for k, v in ekman_mapping.items() if label in v]\n",
    "        new_id_label.extend(new_label)\n",
    "    return list(set(new_id_label))\n"
   ]
  },
  {
   "cell_type": "code",
   "execution_count": null,
   "metadata": {},
   "outputs": [],
   "source": [
    "def encode_label(examples):\n",
    "    return {'labels': [label2id[l] for l in examples['mapped_label']]}"
   ]
  },
  {
   "cell_type": "code",
   "execution_count": 8,
   "metadata": {},
   "outputs": [],
   "source": [
    "train['new_labels'] = train['labels'].apply(map_labels)\n",
    "dev['new_labels'] = dev['labels'].apply(map_labels)\n",
    "test['new_labels'] = test['labels'].apply(map_labels)"
   ]
  },
  {
   "cell_type": "code",
   "execution_count": 9,
   "metadata": {},
   "outputs": [],
   "source": [
    "mlb = MultiLabelBinarizer(classes=list(range(7)))\n",
    "y_train = mlb.fit_transform(train['new_labels'])\n",
    "y_dev = mlb.transform(dev['new_labels'])\n",
    "y_test = mlb.transform(test['new_labels'])\n"
   ]
  },
  {
   "cell_type": "code",
   "execution_count": 10,
   "metadata": {},
   "outputs": [],
   "source": [
    "train['labels'] = y_train.tolist()\n",
    "dev['labels'] = y_dev.tolist()\n",
    "test['labels'] = y_test.tolist()\n"
   ]
  },
  {
   "cell_type": "code",
   "execution_count": 11,
   "metadata": {},
   "outputs": [],
   "source": [
    "train_ds = Dataset.from_pandas(train[['text', 'labels']])\n",
    "dev_ds = Dataset.from_pandas(dev[['text', 'labels']])\n",
    "test_ds = Dataset.from_pandas(test[['text', 'labels']])\n",
    "\n",
    "dataset = DatasetDict({\n",
    "    'train': train_ds,\n",
    "    'validation': dev_ds,\n",
    "    'test': test_ds\n",
    "})\n"
   ]
  },
  {
   "cell_type": "code",
   "execution_count": 12,
   "metadata": {},
   "outputs": [
    {
     "name": "stderr",
     "output_type": "stream",
     "text": [
      "c:\\anaconda\\envs\\nlp\\lib\\site-packages\\huggingface_hub\\file_download.py:943: FutureWarning: `resume_download` is deprecated and will be removed in version 1.0.0. Downloads always resume when possible. If you want to force a new download, use `force_download=True`.\n",
      "  warnings.warn(\n",
      "Map: 100%|██████████| 43410/43410 [00:03<00:00, 11738.49 examples/s]\n",
      "Map: 100%|██████████| 5426/5426 [00:00<00:00, 12038.18 examples/s]\n",
      "Map: 100%|██████████| 5427/5427 [00:00<00:00, 12429.82 examples/s]\n"
     ]
    }
   ],
   "source": [
    "# ===== 4) Tokenize =====\n",
    "model_name = \"microsoft/deberta-v3-base\"\n",
    "tokenizer = AutoTokenizer.from_pretrained(\n",
    "    model_name,\n",
    "    use_fast=False,\n",
    "    revision=\"main\",   # ép đúng nhánh model\n",
    ")\n",
    "\n",
    "def tokenize(examples):\n",
    "    return tokenizer(\n",
    "        examples[\"text\"],\n",
    "        truncation=True,\n",
    "        padding=\"max_length\",\n",
    "        max_length=128,  # thêm dòng này để ép mọi chuỗi về 128 tokens\n",
    "    )\n",
    "tokenized_dataset = dataset.map(tokenize, batched=True)"
   ]
  },
  {
   "cell_type": "code",
   "execution_count": 13,
   "metadata": {},
   "outputs": [
    {
     "name": "stdout",
     "output_type": "stream",
     "text": [
      "128\n"
     ]
    }
   ],
   "source": [
    "print(len(tokenized_dataset[\"train\"][0][\"input_ids\"]))\n",
    "\n"
   ]
  },
  {
   "cell_type": "code",
   "execution_count": 14,
   "metadata": {},
   "outputs": [],
   "source": [
    "from torch.utils.data import DataLoader\n",
    "from dataclasses import dataclass\n",
    "from typing import Any, Dict, List\n",
    "import torch\n",
    "\n",
    "@dataclass\n",
    "class MultiLabelDataCollator:\n",
    "    tokenizer: Any\n",
    "\n",
    "    def __call__(self, features: List[Dict[str, Any]]) -> Dict[str, Any]:\n",
    "        # labels tách riêng\n",
    "        labels = [f[\"labels\"] for f in features]\n",
    "        # chuẩn hóa input_ids & attention_mask bằng tokenizer\n",
    "        batch = self.tokenizer.pad(\n",
    "            [{k: v for k, v in f.items() if k != \"labels\"} for f in features],\n",
    "            return_tensors=\"pt\",\n",
    "            padding=\"longest\",\n",
    "        )\n",
    "        # thêm labels vào batch (chuyển thành tensor float cho BCEWithLogitsLoss)\n",
    "        batch[\"labels\"] = torch.tensor(labels, dtype=torch.float)\n",
    "        return batch\n"
   ]
  },
  {
   "cell_type": "code",
   "execution_count": 15,
   "metadata": {},
   "outputs": [],
   "source": [
    "data_collator = MultiLabelDataCollator(tokenizer)\n",
    "\n",
    "\n",
    "keep_columns = [\"input_ids\", \"attention_mask\", \"labels\"]\n",
    "\n",
    "train_loader = DataLoader(\n",
    "    tokenized_dataset[\"train\"].remove_columns(\n",
    "        [col for col in tokenized_dataset[\"train\"].column_names if col not in keep_columns]\n",
    "    ),\n",
    "    batch_size=16,\n",
    "    shuffle=True,\n",
    "    collate_fn=data_collator\n",
    ")\n",
    "\n",
    "val_loader = DataLoader(\n",
    "    tokenized_dataset[\"validation\"].remove_columns(\n",
    "        [col for col in tokenized_dataset[\"validation\"].column_names if col not in keep_columns]\n",
    "    ),\n",
    "    batch_size=16,\n",
    "    collate_fn=data_collator\n",
    ")\n"
   ]
  },
  {
   "cell_type": "code",
   "execution_count": 16,
   "metadata": {},
   "outputs": [
    {
     "name": "stderr",
     "output_type": "stream",
     "text": [
      "c:\\anaconda\\envs\\nlp\\lib\\site-packages\\transformers\\utils\\generic.py:309: FutureWarning: `torch.utils._pytree._register_pytree_node` is deprecated. Please use `torch.utils._pytree.register_pytree_node` instead.\n",
      "  _torch_pytree._register_pytree_node(\n",
      "c:\\anaconda\\envs\\nlp\\lib\\site-packages\\transformers\\utils\\generic.py:309: FutureWarning: `torch.utils._pytree._register_pytree_node` is deprecated. Please use `torch.utils._pytree.register_pytree_node` instead.\n",
      "  _torch_pytree._register_pytree_node(\n",
      "Some weights of DebertaV2ForSequenceClassification were not initialized from the model checkpoint at microsoft/deberta-v3-base and are newly initialized: ['classifier.bias', 'classifier.weight', 'pooler.dense.bias', 'pooler.dense.weight']\n",
      "You should probably TRAIN this model on a down-stream task to be able to use it for predictions and inference.\n"
     ]
    }
   ],
   "source": [
    "# ===== 6) Model & Optimizer =====\n",
    "\n",
    "model = AutoModelForSequenceClassification.from_pretrained(\n",
    "    model_name,\n",
    "    num_labels=7,  # bạn đã chuẩn hóa 7 nhóm Ekman\n",
    "    problem_type=\"multi_label_classification\",  # rất quan trọng cho bài toán multi-label\n",
    ")\n",
    "\n",
    "device = torch.device(\"cuda\" if torch.cuda.is_available() else \"cpu\")\n",
    "model.to(device)\n",
    "\n",
    "optimizer = torch.optim.AdamW(model.parameters(), lr=2e-5)"
   ]
  },
  {
   "cell_type": "code",
   "execution_count": 19,
   "metadata": {},
   "outputs": [
    {
     "data": {
      "text/html": [
       "Finishing previous runs because reinit is set to 'default'."
      ],
      "text/plain": [
       "<IPython.core.display.HTML object>"
      ]
     },
     "metadata": {},
     "output_type": "display_data"
    },
    {
     "data": {
      "text/html": [],
      "text/plain": [
       "<IPython.core.display.HTML object>"
      ]
     },
     "metadata": {},
     "output_type": "display_data"
    },
    {
     "data": {
      "text/html": [
       " View run <strong style=\"color:#cdcd00\">deberta-v3-base-run1</strong> at: <a href='https://wandb.ai/daiphat2312-fpt-university/deberta-goemotions-7labels/runs/b12ehlef' target=\"_blank\">https://wandb.ai/daiphat2312-fpt-university/deberta-goemotions-7labels/runs/b12ehlef</a><br> View project at: <a href='https://wandb.ai/daiphat2312-fpt-university/deberta-goemotions-7labels' target=\"_blank\">https://wandb.ai/daiphat2312-fpt-university/deberta-goemotions-7labels</a><br>Synced 5 W&B file(s), 0 media file(s), 0 artifact file(s) and 0 other file(s)"
      ],
      "text/plain": [
       "<IPython.core.display.HTML object>"
      ]
     },
     "metadata": {},
     "output_type": "display_data"
    },
    {
     "data": {
      "text/html": [
       "Find logs at: <code>.\\wandb\\run-20250701_132557-b12ehlef\\logs</code>"
      ],
      "text/plain": [
       "<IPython.core.display.HTML object>"
      ]
     },
     "metadata": {},
     "output_type": "display_data"
    },
    {
     "data": {
      "text/html": [
       "Tracking run with wandb version 0.20.1"
      ],
      "text/plain": [
       "<IPython.core.display.HTML object>"
      ]
     },
     "metadata": {},
     "output_type": "display_data"
    },
    {
     "data": {
      "text/html": [
       "Run data is saved locally in <code>c:\\Users\\ADMIN\\Downloads\\wandb\\run-20250701_134147-golr4kgv</code>"
      ],
      "text/plain": [
       "<IPython.core.display.HTML object>"
      ]
     },
     "metadata": {},
     "output_type": "display_data"
    },
    {
     "data": {
      "text/html": [
       "Syncing run <strong><a href='https://wandb.ai/daiphat2312-fpt-university/deberta-goemotions-7labels/runs/golr4kgv' target=\"_blank\">deberta-v3-base-run1</a></strong> to <a href='https://wandb.ai/daiphat2312-fpt-university/deberta-goemotions-7labels' target=\"_blank\">Weights & Biases</a> (<a href='https://wandb.me/developer-guide' target=\"_blank\">docs</a>)<br>"
      ],
      "text/plain": [
       "<IPython.core.display.HTML object>"
      ]
     },
     "metadata": {},
     "output_type": "display_data"
    },
    {
     "data": {
      "text/html": [
       " View project at <a href='https://wandb.ai/daiphat2312-fpt-university/deberta-goemotions-7labels' target=\"_blank\">https://wandb.ai/daiphat2312-fpt-university/deberta-goemotions-7labels</a>"
      ],
      "text/plain": [
       "<IPython.core.display.HTML object>"
      ]
     },
     "metadata": {},
     "output_type": "display_data"
    },
    {
     "data": {
      "text/html": [
       " View run at <a href='https://wandb.ai/daiphat2312-fpt-university/deberta-goemotions-7labels/runs/golr4kgv' target=\"_blank\">https://wandb.ai/daiphat2312-fpt-university/deberta-goemotions-7labels/runs/golr4kgv</a>"
      ],
      "text/plain": [
       "<IPython.core.display.HTML object>"
      ]
     },
     "metadata": {},
     "output_type": "display_data"
    },
    {
     "name": "stderr",
     "output_type": "stream",
     "text": [
      "Training Epoch 1: 100%|██████████| 2714/2714 [11:37<00:00,  3.89it/s]\n"
     ]
    },
    {
     "name": "stdout",
     "output_type": "stream",
     "text": [
      "Epoch 1 - Train loss: 0.2100\n"
     ]
    },
    {
     "name": "stderr",
     "output_type": "stream",
     "text": [
      "Validating: 100%|██████████| 340/340 [00:22<00:00, 15.39it/s]\n"
     ]
    },
    {
     "name": "stdout",
     "output_type": "stream",
     "text": [
      "Epoch 1 - Val Macro F1: 0.5827, Hamming Loss: 0.0891, Subset Acc: 0.6071\n"
     ]
    },
    {
     "name": "stderr",
     "output_type": "stream",
     "text": [
      "Training Epoch 2: 100%|██████████| 2714/2714 [19:38<00:00,  2.30it/s]\n"
     ]
    },
    {
     "name": "stdout",
     "output_type": "stream",
     "text": [
      "Epoch 2 - Train loss: 0.1860\n"
     ]
    },
    {
     "name": "stderr",
     "output_type": "stream",
     "text": [
      "Validating: 100%|██████████| 340/340 [00:30<00:00, 11.06it/s]\n"
     ]
    },
    {
     "name": "stdout",
     "output_type": "stream",
     "text": [
      "Epoch 2 - Val Macro F1: 0.5977, Hamming Loss: 0.0924, Subset Acc: 0.5958\n"
     ]
    },
    {
     "name": "stderr",
     "output_type": "stream",
     "text": [
      "Training Epoch 3: 100%|██████████| 2714/2714 [16:03<00:00,  2.82it/s]\n"
     ]
    },
    {
     "name": "stdout",
     "output_type": "stream",
     "text": [
      "Epoch 3 - Train loss: 0.1585\n"
     ]
    },
    {
     "name": "stderr",
     "output_type": "stream",
     "text": [
      "Validating: 100%|██████████| 340/340 [00:30<00:00, 11.33it/s]\n"
     ]
    },
    {
     "name": "stdout",
     "output_type": "stream",
     "text": [
      "Epoch 3 - Val Macro F1: 0.5987, Hamming Loss: 0.0959, Subset Acc: 0.6015\n"
     ]
    },
    {
     "name": "stderr",
     "output_type": "stream",
     "text": [
      "Training Epoch 4: 100%|██████████| 2714/2714 [14:24<00:00,  3.14it/s]\n"
     ]
    },
    {
     "name": "stdout",
     "output_type": "stream",
     "text": [
      "Epoch 4 - Train loss: 0.1301\n"
     ]
    },
    {
     "name": "stderr",
     "output_type": "stream",
     "text": [
      "Validating: 100%|██████████| 340/340 [00:20<00:00, 16.44it/s]\n"
     ]
    },
    {
     "name": "stdout",
     "output_type": "stream",
     "text": [
      "Epoch 4 - Val Macro F1: 0.5928, Hamming Loss: 0.0963, Subset Acc: 0.6104\n"
     ]
    },
    {
     "name": "stderr",
     "output_type": "stream",
     "text": [
      "Training Epoch 5: 100%|██████████| 2714/2714 [11:08<00:00,  4.06it/s]\n"
     ]
    },
    {
     "name": "stdout",
     "output_type": "stream",
     "text": [
      "Epoch 5 - Train loss: 0.1046\n"
     ]
    },
    {
     "name": "stderr",
     "output_type": "stream",
     "text": [
      "Validating: 100%|██████████| 340/340 [00:20<00:00, 16.73it/s]\n"
     ]
    },
    {
     "name": "stdout",
     "output_type": "stream",
     "text": [
      "Epoch 5 - Val Macro F1: 0.5868, Hamming Loss: 0.0993, Subset Acc: 0.5982\n"
     ]
    },
    {
     "name": "stderr",
     "output_type": "stream",
     "text": [
      "Training Epoch 6: 100%|██████████| 2714/2714 [10:58<00:00,  4.12it/s]\n"
     ]
    },
    {
     "name": "stdout",
     "output_type": "stream",
     "text": [
      "Epoch 6 - Train loss: 0.0856\n"
     ]
    },
    {
     "name": "stderr",
     "output_type": "stream",
     "text": [
      "Validating: 100%|██████████| 340/340 [00:19<00:00, 17.45it/s]\n"
     ]
    },
    {
     "name": "stdout",
     "output_type": "stream",
     "text": [
      "Epoch 6 - Val Macro F1: 0.5848, Hamming Loss: 0.1015, Subset Acc: 0.5881\n"
     ]
    },
    {
     "name": "stderr",
     "output_type": "stream",
     "text": [
      "Training Epoch 7: 100%|██████████| 2714/2714 [10:34<00:00,  4.28it/s]\n"
     ]
    },
    {
     "name": "stdout",
     "output_type": "stream",
     "text": [
      "Epoch 7 - Train loss: 0.0717\n"
     ]
    },
    {
     "name": "stderr",
     "output_type": "stream",
     "text": [
      "Validating: 100%|██████████| 340/340 [00:19<00:00, 17.40it/s]\n"
     ]
    },
    {
     "name": "stdout",
     "output_type": "stream",
     "text": [
      "Epoch 7 - Val Macro F1: 0.5714, Hamming Loss: 0.1041, Subset Acc: 0.5822\n"
     ]
    },
    {
     "name": "stderr",
     "output_type": "stream",
     "text": [
      "Training Epoch 8: 100%|██████████| 2714/2714 [10:33<00:00,  4.28it/s]\n"
     ]
    },
    {
     "name": "stdout",
     "output_type": "stream",
     "text": [
      "Epoch 8 - Train loss: 0.0610\n"
     ]
    },
    {
     "name": "stderr",
     "output_type": "stream",
     "text": [
      "Validating: 100%|██████████| 340/340 [00:19<00:00, 17.42it/s]\n"
     ]
    },
    {
     "name": "stdout",
     "output_type": "stream",
     "text": [
      "Epoch 8 - Val Macro F1: 0.5431, Hamming Loss: 0.1138, Subset Acc: 0.5509\n"
     ]
    },
    {
     "name": "stderr",
     "output_type": "stream",
     "text": [
      "Training Epoch 9: 100%|██████████| 2714/2714 [12:17<00:00,  3.68it/s]\n"
     ]
    },
    {
     "name": "stdout",
     "output_type": "stream",
     "text": [
      "Epoch 9 - Train loss: 0.0524\n"
     ]
    },
    {
     "name": "stderr",
     "output_type": "stream",
     "text": [
      "Validating: 100%|██████████| 340/340 [00:26<00:00, 12.90it/s]\n"
     ]
    },
    {
     "name": "stdout",
     "output_type": "stream",
     "text": [
      "Epoch 9 - Val Macro F1: 0.5691, Hamming Loss: 0.1050, Subset Acc: 0.5809\n"
     ]
    },
    {
     "name": "stderr",
     "output_type": "stream",
     "text": [
      "Training Epoch 10: 100%|██████████| 2714/2714 [14:26<00:00,  3.13it/s]\n"
     ]
    },
    {
     "name": "stdout",
     "output_type": "stream",
     "text": [
      "Epoch 10 - Train loss: 0.0457\n"
     ]
    },
    {
     "name": "stderr",
     "output_type": "stream",
     "text": [
      "Validating: 100%|██████████| 340/340 [00:23<00:00, 14.21it/s]\n"
     ]
    },
    {
     "name": "stdout",
     "output_type": "stream",
     "text": [
      "Epoch 10 - Val Macro F1: 0.5656, Hamming Loss: 0.1090, Subset Acc: 0.5645\n"
     ]
    },
    {
     "data": {
      "text/html": [],
      "text/plain": [
       "<IPython.core.display.HTML object>"
      ]
     },
     "metadata": {},
     "output_type": "display_data"
    },
    {
     "data": {
      "text/html": [
       "<br>    <style><br>        .wandb-row {<br>            display: flex;<br>            flex-direction: row;<br>            flex-wrap: wrap;<br>            justify-content: flex-start;<br>            width: 100%;<br>        }<br>        .wandb-col {<br>            display: flex;<br>            flex-direction: column;<br>            flex-basis: 100%;<br>            flex: 1;<br>            padding: 10px;<br>        }<br>    </style><br><div class=\"wandb-row\"><div class=\"wandb-col\"><h3>Run history:</h3><br/><table class=\"wandb\"><tr><td>epoch</td><td>▁▂▃▃▄▅▆▆▇█</td></tr><tr><td>train_loss</td><td>█▇▆▅▄▃▂▂▁▁</td></tr><tr><td>val_hamming_loss</td><td>▁▂▃▃▄▅▅█▆▇</td></tr><tr><td>val_macro_f1</td><td>▆██▇▇▆▅▁▄▄</td></tr><tr><td>val_subset_acc</td><td>█▆▇█▇▅▅▁▅▃</td></tr></table><br/></div><div class=\"wandb-col\"><h3>Run summary:</h3><br/><table class=\"wandb\"><tr><td>epoch</td><td>10</td></tr><tr><td>train_loss</td><td>0.04572</td></tr><tr><td>val_hamming_loss</td><td>0.109</td></tr><tr><td>val_macro_f1</td><td>0.56562</td></tr><tr><td>val_subset_acc</td><td>0.5645</td></tr></table><br/></div></div>"
      ],
      "text/plain": [
       "<IPython.core.display.HTML object>"
      ]
     },
     "metadata": {},
     "output_type": "display_data"
    },
    {
     "data": {
      "text/html": [
       " View run <strong style=\"color:#cdcd00\">deberta-v3-base-run1</strong> at: <a href='https://wandb.ai/daiphat2312-fpt-university/deberta-goemotions-7labels/runs/golr4kgv' target=\"_blank\">https://wandb.ai/daiphat2312-fpt-university/deberta-goemotions-7labels/runs/golr4kgv</a><br> View project at: <a href='https://wandb.ai/daiphat2312-fpt-university/deberta-goemotions-7labels' target=\"_blank\">https://wandb.ai/daiphat2312-fpt-university/deberta-goemotions-7labels</a><br>Synced 5 W&B file(s), 0 media file(s), 0 artifact file(s) and 10 other file(s)"
      ],
      "text/plain": [
       "<IPython.core.display.HTML object>"
      ]
     },
     "metadata": {},
     "output_type": "display_data"
    },
    {
     "data": {
      "text/html": [
       "Find logs at: <code>.\\wandb\\run-20250701_134147-golr4kgv\\logs</code>"
      ],
      "text/plain": [
       "<IPython.core.display.HTML object>"
      ]
     },
     "metadata": {},
     "output_type": "display_data"
    }
   ],
   "source": [
    "wandb.init(\n",
    "    project=\"deberta-goemotions-7labels\",\n",
    "    name=\"deberta-v3-base-run1\",\n",
    "    config={\n",
    "        \"model\": \"microsoft/deberta-v3-base\",\n",
    "        \"batch_size\": 16,\n",
    "        \"lr\": 2e-5,\n",
    "        \"epochs\": 10,\n",
    "    }\n",
    ")\n",
    "\n",
    "# ===== 7) Training loop =====\n",
    "\n",
    "num_epochs = 10\n",
    "threshold = 0.5  # threshold để cắt nhị phân multi-label\n",
    "\n",
    "for epoch in range(num_epochs):\n",
    "    model.train()\n",
    "    total_loss = 0\n",
    "    for batch in tqdm(train_loader, desc=f\"Training Epoch {epoch+1}\"):\n",
    "        optimizer.zero_grad()\n",
    "        input_ids = batch['input_ids'].to(device)\n",
    "        attention_mask = batch['attention_mask'].to(device)\n",
    "        labels = batch['labels'].float().to(device)  # cần .float() cho BCE\n",
    "        \n",
    "        outputs = model(input_ids=input_ids, attention_mask=attention_mask, labels=labels)\n",
    "        loss = outputs.loss\n",
    "        loss.backward()\n",
    "        optimizer.step()\n",
    "        \n",
    "        total_loss += loss.item()\n",
    "    \n",
    "    avg_train_loss = total_loss / len(train_loader)\n",
    "    print(f\"Epoch {epoch+1} - Train loss: {avg_train_loss:.4f}\")\n",
    "\n",
    "    # ===== Validation =====\n",
    "    model.eval()\n",
    "    all_preds, all_labels = [], []\n",
    "    with torch.no_grad():\n",
    "        for batch in tqdm(val_loader, desc=\"Validating\"):\n",
    "            input_ids = batch['input_ids'].to(device)\n",
    "            attention_mask = batch['attention_mask'].to(device)\n",
    "            labels = batch['labels'].cpu().numpy()  # lấy ground truth trước\n",
    "            \n",
    "            outputs = model(input_ids=input_ids, attention_mask=attention_mask)\n",
    "            logits = outputs.logits\n",
    "            probs = torch.sigmoid(logits).cpu().numpy()\n",
    "            preds = (probs >= threshold).astype(int)  # multi-label: sigmoid + threshold\n",
    "            \n",
    "            all_preds.append(preds)\n",
    "            all_labels.append(labels)\n",
    "    \n",
    "    all_preds = np.vstack(all_preds)\n",
    "    all_labels = np.vstack(all_labels)\n",
    "    \n",
    "    macro_f1 = f1_score(all_labels, all_preds, average=\"macro\", zero_division=0)\n",
    "    hamming = hamming_loss(all_labels, all_preds)\n",
    "    subset_acc = accuracy_score(all_labels, all_preds)  # subset accuracy: tất cả nhãn phải khớp\n",
    "    \n",
    "    print(f\"Epoch {epoch+1} - Val Macro F1: {macro_f1:.4f}, Hamming Loss: {hamming:.4f}, Subset Acc: {subset_acc:.4f}\")\n",
    "    \n",
    "    # ===== Log lên wandb =====\n",
    "    wandb.log({\n",
    "        \"epoch\": epoch + 1,\n",
    "        \"train_loss\": avg_train_loss,\n",
    "        \"val_macro_f1\": macro_f1,\n",
    "        \"val_hamming_loss\": hamming,\n",
    "        \"val_subset_acc\": subset_acc,\n",
    "    })\n",
    "    \n",
    "    # ===== Lưu model sau mỗi epoch =====\n",
    "    checkpoint_name = f\"deberta_goemotions_epoch{epoch+1}.pth\"\n",
    "    torch.save(model.state_dict(), checkpoint_name)\n",
    "    wandb.save(checkpoint_name)\n",
    "\n",
    "wandb.finish()\n"
   ]
  },
  {
   "cell_type": "code",
   "execution_count": 21,
   "metadata": {},
   "outputs": [
    {
     "name": "stderr",
     "output_type": "stream",
     "text": [
      "Some weights of DebertaV2ForSequenceClassification were not initialized from the model checkpoint at microsoft/deberta-v3-base and are newly initialized: ['classifier.bias', 'classifier.weight', 'pooler.dense.bias', 'pooler.dense.weight']\n",
      "You should probably TRAIN this model on a down-stream task to be able to use it for predictions and inference.\n"
     ]
    },
    {
     "data": {
      "text/plain": [
       "DebertaV2ForSequenceClassification(\n",
       "  (deberta): DebertaV2Model(\n",
       "    (embeddings): DebertaV2Embeddings(\n",
       "      (word_embeddings): Embedding(128100, 768, padding_idx=0)\n",
       "      (LayerNorm): LayerNorm((768,), eps=1e-07, elementwise_affine=True)\n",
       "      (dropout): StableDropout()\n",
       "    )\n",
       "    (encoder): DebertaV2Encoder(\n",
       "      (layer): ModuleList(\n",
       "        (0-11): 12 x DebertaV2Layer(\n",
       "          (attention): DebertaV2Attention(\n",
       "            (self): DisentangledSelfAttention(\n",
       "              (query_proj): Linear(in_features=768, out_features=768, bias=True)\n",
       "              (key_proj): Linear(in_features=768, out_features=768, bias=True)\n",
       "              (value_proj): Linear(in_features=768, out_features=768, bias=True)\n",
       "              (pos_dropout): StableDropout()\n",
       "              (dropout): StableDropout()\n",
       "            )\n",
       "            (output): DebertaV2SelfOutput(\n",
       "              (dense): Linear(in_features=768, out_features=768, bias=True)\n",
       "              (LayerNorm): LayerNorm((768,), eps=1e-07, elementwise_affine=True)\n",
       "              (dropout): StableDropout()\n",
       "            )\n",
       "          )\n",
       "          (intermediate): DebertaV2Intermediate(\n",
       "            (dense): Linear(in_features=768, out_features=3072, bias=True)\n",
       "            (intermediate_act_fn): GELUActivation()\n",
       "          )\n",
       "          (output): DebertaV2Output(\n",
       "            (dense): Linear(in_features=3072, out_features=768, bias=True)\n",
       "            (LayerNorm): LayerNorm((768,), eps=1e-07, elementwise_affine=True)\n",
       "            (dropout): StableDropout()\n",
       "          )\n",
       "        )\n",
       "      )\n",
       "      (rel_embeddings): Embedding(512, 768)\n",
       "      (LayerNorm): LayerNorm((768,), eps=1e-07, elementwise_affine=True)\n",
       "    )\n",
       "  )\n",
       "  (pooler): ContextPooler(\n",
       "    (dense): Linear(in_features=768, out_features=768, bias=True)\n",
       "    (dropout): StableDropout()\n",
       "  )\n",
       "  (classifier): Linear(in_features=768, out_features=7, bias=True)\n",
       "  (dropout): StableDropout()\n",
       ")"
      ]
     },
     "execution_count": 21,
     "metadata": {},
     "output_type": "execute_result"
    }
   ],
   "source": [
    "from transformers import AutoModelForSequenceClassification\n",
    "\n",
    "# Giả sử bạn đã lưu weight ở 'deberta_goemotions_best.pth'\n",
    "model = AutoModelForSequenceClassification.from_pretrained(\n",
    "    model_name,\n",
    "    num_labels=7,\n",
    "    problem_type=\"multi_label_classification\",\n",
    ")\n",
    "model.load_state_dict(torch.load(r\"C:\\Users\\ADMIN\\Downloads\\deberta_goemotions_epoch10.pth\", map_location=\"cpu\"))\n",
    "model.to(device)\n",
    "model.eval()\n"
   ]
  },
  {
   "cell_type": "code",
   "execution_count": 22,
   "metadata": {},
   "outputs": [],
   "source": [
    "test_loader = DataLoader(\n",
    "    tokenized_dataset[\"test\"].remove_columns(\n",
    "        [col for col in tokenized_dataset[\"test\"].column_names if col not in keep_columns]\n",
    "    ),\n",
    "    batch_size=16,\n",
    "    collate_fn=data_collator,\n",
    ")\n"
   ]
  },
  {
   "cell_type": "code",
   "execution_count": 23,
   "metadata": {},
   "outputs": [
    {
     "name": "stderr",
     "output_type": "stream",
     "text": [
      "Predicting Test Set: 100%|██████████| 340/340 [00:22<00:00, 15.07it/s]\n"
     ]
    }
   ],
   "source": [
    "all_test_preds = []\n",
    "all_test_probs = []\n",
    "\n",
    "with torch.no_grad():\n",
    "    for batch in tqdm(test_loader, desc=\"Predicting Test Set\"):\n",
    "        input_ids = batch['input_ids'].to(device)\n",
    "        attention_mask = batch['attention_mask'].to(device)\n",
    "\n",
    "        outputs = model(input_ids=input_ids, attention_mask=attention_mask)\n",
    "        logits = outputs.logits\n",
    "        probs = torch.sigmoid(logits).cpu().numpy()  # multi-label: dùng sigmoid\n",
    "\n",
    "        preds = (probs >= 0.5).astype(int)\n",
    "\n",
    "        all_test_probs.append(probs)\n",
    "        all_test_preds.append(preds)\n",
    "\n",
    "# Nối các batch lại\n",
    "all_test_probs = np.vstack(all_test_probs)  # xác suất\n",
    "all_test_preds = np.vstack(all_test_preds)  # nhãn nhị phân\n"
   ]
  },
  {
   "cell_type": "code",
   "execution_count": 25,
   "metadata": {},
   "outputs": [
    {
     "name": "stdout",
     "output_type": "stream",
     "text": [
      "Sample 0:\n",
      "  Predicted labels: ['joy', 'sadness']\n",
      "  Probabilities: {'anger_prob': np.float32(0.0007615878), 'disgust_prob': np.float32(3.7126436e-05), 'fear_prob': np.float32(0.00055513193), 'joy_prob': np.float32(0.98823816), 'sadness_prob': np.float32(0.6338523), 'surprise_prob': np.float32(0.00024968086), 'neutral_prob': np.float32(0.0006867812)}\n",
      "  ----------------------------\n",
      "Sample 1:\n",
      "  Predicted labels: ['joy']\n",
      "  Probabilities: {'anger_prob': np.float32(0.15635367), 'disgust_prob': np.float32(0.17629749), 'fear_prob': np.float32(0.001413328), 'joy_prob': np.float32(0.99580115), 'sadness_prob': np.float32(0.0034380143), 'surprise_prob': np.float32(0.00028501858), 'neutral_prob': np.float32(0.00021712975)}\n",
      "  ----------------------------\n",
      "Sample 2:\n",
      "  Predicted labels: ['joy']\n",
      "  Probabilities: {'anger_prob': np.float32(2.4367886e-05), 'disgust_prob': np.float32(9.672468e-07), 'fear_prob': np.float32(5.237669e-05), 'joy_prob': np.float32(0.99968386), 'sadness_prob': np.float32(2.6623224e-05), 'surprise_prob': np.float32(0.0077783125), 'neutral_prob': np.float32(0.0004939738)}\n",
      "  ----------------------------\n",
      "Sample 3:\n",
      "  Predicted labels: ['joy']\n",
      "  Probabilities: {'anger_prob': np.float32(4.9503255e-05), 'disgust_prob': np.float32(3.0406045e-06), 'fear_prob': np.float32(3.0007537e-05), 'joy_prob': np.float32(0.99976677), 'sadness_prob': np.float32(5.8341815e-05), 'surprise_prob': np.float32(8.582369e-05), 'neutral_prob': np.float32(9.533815e-05)}\n",
      "  ----------------------------\n",
      "Sample 4:\n",
      "  Predicted labels: ['neutral']\n",
      "  Probabilities: {'anger_prob': np.float32(0.00035620117), 'disgust_prob': np.float32(0.0002190482), 'fear_prob': np.float32(6.0720147e-05), 'joy_prob': np.float32(0.0003535943), 'sadness_prob': np.float32(0.008453609), 'surprise_prob': np.float32(0.003080021), 'neutral_prob': np.float32(0.9951504)}\n",
      "  ----------------------------\n",
      "Sample 5:\n",
      "  Predicted labels: ['joy']\n",
      "  Probabilities: {'anger_prob': np.float32(0.00016889093), 'disgust_prob': np.float32(3.0102776e-06), 'fear_prob': np.float32(6.694034e-05), 'joy_prob': np.float32(0.99986625), 'sadness_prob': np.float32(2.7807178e-05), 'surprise_prob': np.float32(0.0003966754), 'neutral_prob': np.float32(7.101562e-05)}\n",
      "  ----------------------------\n",
      "Sample 6:\n",
      "  Predicted labels: ['joy']\n",
      "  Probabilities: {'anger_prob': np.float32(0.00016824462), 'disgust_prob': np.float32(5.72632e-06), 'fear_prob': np.float32(9.847618e-05), 'joy_prob': np.float32(0.99444723), 'sadness_prob': np.float32(6.2777035e-05), 'surprise_prob': np.float32(0.00011282567), 'neutral_prob': np.float32(0.043048564)}\n",
      "  ----------------------------\n",
      "Sample 7:\n",
      "  Predicted labels: ['joy']\n",
      "  Probabilities: {'anger_prob': np.float32(5.759949e-06), 'disgust_prob': np.float32(2.992566e-07), 'fear_prob': np.float32(1.38505475e-05), 'joy_prob': np.float32(0.99969363), 'sadness_prob': np.float32(1.36196495e-05), 'surprise_prob': np.float32(0.001180264), 'neutral_prob': np.float32(0.00040778922)}\n",
      "  ----------------------------\n",
      "Sample 8:\n",
      "  Predicted labels: ['sadness']\n",
      "  Probabilities: {'anger_prob': np.float32(0.00056255254), 'disgust_prob': np.float32(5.5253e-05), 'fear_prob': np.float32(0.0007066739), 'joy_prob': np.float32(0.108749345), 'sadness_prob': np.float32(0.9879353), 'surprise_prob': np.float32(0.0012665179), 'neutral_prob': np.float32(0.0016636058)}\n",
      "  ----------------------------\n",
      "Sample 9:\n",
      "  Predicted labels: ['sadness']\n",
      "  Probabilities: {'anger_prob': np.float32(0.00045771018), 'disgust_prob': np.float32(0.00011141284), 'fear_prob': np.float32(0.0004364538), 'joy_prob': np.float32(0.0043881387), 'sadness_prob': np.float32(0.996903), 'surprise_prob': np.float32(0.00065288274), 'neutral_prob': np.float32(0.007458952)}\n",
      "  ----------------------------\n"
     ]
    }
   ],
   "source": [
    "ekman_labels = list(ekman_mapping.keys())  # danh sách nhãn theo thứ tự index 0-6\n",
    "\n",
    "for i in range(10):\n",
    "    predicted = [ekman_labels[j] for j, v in enumerate(all_test_preds[i]) if v == 1]\n",
    "    probs_dict = {f\"{ekman_labels[j]}_prob\": all_test_probs[i, j] for j in range(len(ekman_labels))}\n",
    "    print(f\"Sample {i}:\")\n",
    "    print(\"  Predicted labels:\", predicted)\n",
    "    print(\"  Probabilities:\", probs_dict)\n",
    "    print(\"  ----------------------------\")\n"
   ]
  },
  {
   "cell_type": "code",
   "execution_count": 26,
   "metadata": {},
   "outputs": [
    {
     "name": "stdout",
     "output_type": "stream",
     "text": [
      "✅ Đã lưu kết quả dự đoán vào test_predictions.csv\n"
     ]
    }
   ],
   "source": [
    "import pandas as pd\n",
    "\n",
    "results = []\n",
    "for i in range(len(all_test_preds)):\n",
    "    preds = [ekman_labels[j] for j, v in enumerate(all_test_preds[i]) if v == 1]\n",
    "    entry = {\"sample_idx\": i, \"predicted_labels\": preds}\n",
    "    for j, label in enumerate(ekman_labels):\n",
    "        entry[f\"{label}_prob\"] = all_test_probs[i, j]\n",
    "    results.append(entry)\n",
    "\n",
    "df_results = pd.DataFrame(results)\n",
    "df_results.to_csv(\"test_predictions.csv\", index=False)\n",
    "print(\"✅ Đã lưu kết quả dự đoán vào test_predictions.csv\")\n"
   ]
  },
  {
   "cell_type": "code",
   "execution_count": 28,
   "metadata": {},
   "outputs": [
    {
     "data": {
      "image/png": "[encoded data removed]",
      "text/plain": [
       "<Figure size 1000x500 with 1 Axes>"
      ]
     },
     "metadata": {},
     "output_type": "display_data"
    },
    {
     "name": "stdout",
     "output_type": "stream",
     "text": [
      "✅ Đã lưu biểu đồ phân bố label vào label_distribution.png\n"
     ]
    }
   ],
   "source": [
    "import matplotlib.pyplot as plt\n",
    "import seaborn as sns\n",
    "\n",
    "# Đếm tổng số lần mỗi nhãn được dự đoán 1\n",
    "label_counts = np.sum(all_test_preds, axis=0)\n",
    "plt.figure(figsize=(10, 5))\n",
    "sns.barplot(x=ekman_labels, y=label_counts)\n",
    "plt.title(\"Số lượng mẫu được dự đoán positive cho từng nhãn (test set)\")\n",
    "plt.ylabel(\"Số mẫu\")\n",
    "plt.xlabel(\"Nhãn\")\n",
    "plt.xticks(rotation=30)\n",
    "plt.tight_layout()\n",
    "plt.savefig(\"label_distribution.png\")\n",
    "plt.show()\n",
    "print(\"✅ Đã lưu biểu đồ phân bố label vào label_distribution.png\")\n"
   ]
  }
 ],
 "metadata": {
  "kernelspec": {
   "display_name": "Python 3",
   "language": "python",
   "name": "python3"
  },
  "language_info": {
   "codemirror_mode": {
    "name": "ipython",
    "version": 3
   },
   "file_extension": ".py",
   "mimetype": "text/x-python",
   "name": "python",
   "nbconvert_exporter": "python",
   "pygments_lexer": "ipython3",
   "version": "3.10.18"
  }
 },
 "nbformat": 4,
 "nbformat_minor": 2
}
