{
 "cells": [
  {
   "cell_type": "code",
   "execution_count": 1,
   "metadata": {},
   "outputs": [
    {
     "name": "stderr",
     "output_type": "stream",
     "text": [
      "c:\\anaconda\\envs\\nlp\\lib\\site-packages\\tqdm\\auto.py:21: TqdmWarning: IProgress not found. Please update jupyter and ipywidgets. See https://ipywidgets.readthedocs.io/en/stable/user_install.html\n",
      "  from .autonotebook import tqdm as notebook_tqdm\n",
      "c:\\anaconda\\envs\\nlp\\lib\\site-packages\\transformers\\utils\\generic.py:441: FutureWarning: `torch.utils._pytree._register_pytree_node` is deprecated. Please use `torch.utils._pytree.register_pytree_node` instead.\n",
      "  _torch_pytree._register_pytree_node(\n",
      "c:\\anaconda\\envs\\nlp\\lib\\site-packages\\transformers\\utils\\generic.py:309: FutureWarning: `torch.utils._pytree._register_pytree_node` is deprecated. Please use `torch.utils._pytree.register_pytree_node` instead.\n",
      "  _torch_pytree._register_pytree_node(\n",
      "c:\\anaconda\\envs\\nlp\\lib\\site-packages\\transformers\\utils\\generic.py:309: FutureWarning: `torch.utils._pytree._register_pytree_node` is deprecated. Please use `torch.utils._pytree.register_pytree_node` instead.\n",
      "  _torch_pytree._register_pytree_node(\n"
     ]
    }
   ],
   "source": [
    "import pandas as pd\n",
    "import torch\n",
    "from torch.utils.data import Dataset, DataLoader\n",
    "from transformers import RobertaTokenizer, RobertaForSequenceClassification, AdamW, get_linear_schedule_with_warmup\n",
    "from sklearn.model_selection import train_test_split\n",
    "from sklearn.metrics import classification_report, f1_score\n",
    "from tqdm import tqdm\n",
    "import wandb\n",
    "import numpy as np\n"
   ]
  },
  {
   "cell_type": "code",
   "execution_count": 2,
   "metadata": {},
   "outputs": [
    {
     "name": "stdout",
     "output_type": "stream",
     "text": [
      "ekman_to_index: {'anger': 0, 'disgust': 1, 'fear': 2, 'joy': 3, 'neutral': 4, 'sadness': 5, 'surprise': 6}\n"
     ]
    }
   ],
   "source": [
    "emotion_list = [\n",
    "    \"admiration\", \"amusement\", \"anger\", \"annoyance\", \"approval\", \"caring\", \"confusion\",\n",
    "    \"curiosity\", \"desire\", \"disappointment\", \"disapproval\", \"disgust\", \"embarrassment\",\n",
    "    \"excitement\", \"fear\", \"gratitude\", \"grief\", \"joy\", \"love\", \"nervousness\", \"optimism\",\n",
    "    \"pride\", \"realization\", \"relief\", \"remorse\", \"sadness\", \"surprise\", \"neutral\"\n",
    "]\n",
    "\n",
    "ekman_mapping = {\n",
    "    \"anger\": [\"anger\", \"annoyance\", \"disapproval\"],\n",
    "    \"disgust\": [\"disgust\"],\n",
    "    \"fear\": [\"fear\", \"nervousness\", \"confusion\"],\n",
    "    \"joy\": [\"admiration\", \"amusement\", \"approval\", \"caring\", \"desire\", \"excitement\",\n",
    "            \"gratitude\", \"joy\", \"love\", \"optimism\", \"pride\", \"relief\"],\n",
    "    \"sadness\": [\"sadness\", \"disappointment\", \"embarrassment\", \"grief\", \"remorse\"],\n",
    "    \"surprise\": [\"surprise\", \"realization\", \"curiosity\"],\n",
    "    \"neutral\": [\"neutral\"]\n",
    "}\n",
    "\n",
    "# Tạo ánh xạ label gốc -> ekman\n",
    "label2ekman = {}\n",
    "for ekman_label, label_list in ekman_mapping.items():\n",
    "    for orig_label in label_list:\n",
    "        label2ekman[orig_label] = ekman_label\n",
    "\n",
    "# Tạo ánh xạ ekman -> index\n",
    "ekman_to_index = {k: i for i, k in enumerate(sorted(ekman_mapping.keys()))}\n",
    "index_to_ekman = {v: k for k, v in ekman_to_index.items()}\n",
    "num_labels = len(ekman_to_index)\n",
    "print(f\"ekman_to_index: {ekman_to_index}\")\n"
   ]
  },
  {
   "cell_type": "code",
   "execution_count": 3,
   "metadata": {},
   "outputs": [
    {
     "name": "stdout",
     "output_type": "stream",
     "text": [
      "                                                text label       id\n",
      "0  My favourite food is anything I didn't have to...    27  eebbqej\n",
      "1  Now if he does off himself, everyone will thin...    27  ed00q6i\n",
      "2                     WHY THE FUCK IS BAYLESS ISOING     2  eezlygj\n",
      "3                        To make her feel threatened    14  ed7ypvh\n",
      "4                             Dirty Southern Wankers     3  ed0bdzj\n"
     ]
    }
   ],
   "source": [
    "import pandas as pd\n",
    "\n",
    "df = pd.read_csv(r\"D:\\train.tsv\", sep=\"\\t\", header=None, names=[\"text\", \"label\", \"id\"])\n",
    "print(df.head())\n"
   ]
  },
  {
   "cell_type": "code",
   "execution_count": 4,
   "metadata": {},
   "outputs": [
    {
     "name": "stdout",
     "output_type": "stream",
     "text": [
      "                                                text ekman_labels  \\\n",
      "0  My favourite food is anything I didn't have to...    [neutral]   \n",
      "1  Now if he does off himself, everyone will thin...    [neutral]   \n",
      "2                     WHY THE FUCK IS BAYLESS ISOING      [anger]   \n",
      "3                        To make her feel threatened       [fear]   \n",
      "4                             Dirty Southern Wankers      [anger]   \n",
      "\n",
      "               label_vec  \n",
      "0  [0, 0, 0, 0, 1, 0, 0]  \n",
      "1  [0, 0, 0, 0, 1, 0, 0]  \n",
      "2  [1, 0, 0, 0, 0, 0, 0]  \n",
      "3  [0, 0, 1, 0, 0, 0, 0]  \n",
      "4  [1, 0, 0, 0, 0, 0, 0]  \n"
     ]
    }
   ],
   "source": [
    "def parse_labels(x):\n",
    "    try:\n",
    "        ids = [int(p.strip()) for p in str(x).split(\",\")]\n",
    "        return ids\n",
    "    except:\n",
    "        return []\n",
    "\n",
    "df[\"label_ints\"] = df[\"label\"].apply(parse_labels)\n",
    "\n",
    "def map_to_ekman(ids):\n",
    "    ekman_set = set()\n",
    "    for id_ in ids:\n",
    "        orig_label = emotion_list[id_]\n",
    "        ekman_label = label2ekman[orig_label]\n",
    "        ekman_set.add(ekman_label)\n",
    "    return list(ekman_set)\n",
    "\n",
    "df[\"ekman_labels\"] = df[\"label_ints\"].apply(map_to_ekman)\n",
    "\n",
    "def ekman_to_onehot(ekman_labels):\n",
    "    vec = [0] * num_labels\n",
    "    for label in ekman_labels:\n",
    "        vec[ekman_to_index[label]] = 1\n",
    "    return vec\n",
    "\n",
    "df[\"label_vec\"] = df[\"ekman_labels\"].apply(ekman_to_onehot)\n",
    "\n",
    "print(df[[\"text\", \"ekman_labels\", \"label_vec\"]].head())\n"
   ]
  },
  {
   "cell_type": "code",
   "execution_count": 5,
   "metadata": {},
   "outputs": [
    {
     "name": "stdout",
     "output_type": "stream",
     "text": [
      "Train: 34728, Val: 4341, Test: 4341\n"
     ]
    }
   ],
   "source": [
    "from sklearn.model_selection import train_test_split\n",
    "\n",
    "train_df, temp_df = train_test_split(df, test_size=0.2, random_state=42)\n",
    "val_df, test_df = train_test_split(temp_df, test_size=0.5, random_state=42)\n",
    "\n",
    "print(f\"Train: {len(train_df)}, Val: {len(val_df)}, Test: {len(test_df)}\")\n"
   ]
  },
  {
   "cell_type": "code",
   "execution_count": 6,
   "metadata": {},
   "outputs": [],
   "source": [
    "class EmotionDataset(Dataset):\n",
    "    def __init__(self, df, tokenizer, max_length=128):\n",
    "        self.df = df\n",
    "        self.tokenizer = tokenizer\n",
    "        self.max_length = max_length\n",
    "        \n",
    "    def __len__(self):\n",
    "        return len(self.df)\n",
    "    \n",
    "    def __getitem__(self, idx):\n",
    "        row = self.df.iloc[idx]\n",
    "        encoding = self.tokenizer(\n",
    "            row[\"text\"], truncation=True, padding=\"max_length\",\n",
    "            max_length=self.max_length, return_tensors=\"pt\")\n",
    "        item = {key: val.squeeze() for key, val in encoding.items()}\n",
    "        item[\"labels\"] = torch.tensor(row[\"label_vec\"], dtype=torch.float)\n",
    "        return item\n"
   ]
  },
  {
   "cell_type": "code",
   "execution_count": 9,
   "metadata": {},
   "outputs": [
    {
     "data": {
      "text/html": [
       "Finishing previous runs because reinit is set to 'default'."
      ],
      "text/plain": [
       "<IPython.core.display.HTML object>"
      ]
     },
     "metadata": {},
     "output_type": "display_data"
    },
    {
     "data": {
      "text/html": [],
      "text/plain": [
       "<IPython.core.display.HTML object>"
      ]
     },
     "metadata": {},
     "output_type": "display_data"
    },
    {
     "data": {
      "text/html": [
       " View run <strong style=\"color:#cdcd00\">roberta-multilabel-run1</strong> at: <a href='https://wandb.ai/daiphat2312-fpt-university/roberta-emotion/runs/klljoog3' target=\"_blank\">https://wandb.ai/daiphat2312-fpt-university/roberta-emotion/runs/klljoog3</a><br> View project at: <a href='https://wandb.ai/daiphat2312-fpt-university/roberta-emotion' target=\"_blank\">https://wandb.ai/daiphat2312-fpt-university/roberta-emotion</a><br>Synced 5 W&B file(s), 0 media file(s), 0 artifact file(s) and 0 other file(s)"
      ],
      "text/plain": [
       "<IPython.core.display.HTML object>"
      ]
     },
     "metadata": {},
     "output_type": "display_data"
    },
    {
     "data": {
      "text/html": [
       "Find logs at: <code>.\\wandb\\run-20250701_205107-klljoog3\\logs</code>"
      ],
      "text/plain": [
       "<IPython.core.display.HTML object>"
      ]
     },
     "metadata": {},
     "output_type": "display_data"
    },
    {
     "data": {
      "text/html": [
       "Tracking run with wandb version 0.20.1"
      ],
      "text/plain": [
       "<IPython.core.display.HTML object>"
      ]
     },
     "metadata": {},
     "output_type": "display_data"
    },
    {
     "data": {
      "text/html": [
       "Run data is saved locally in <code>c:\\VS Code\\Microsoft VS Code\\wandb\\run-20250701_205828-2qcemh6g</code>"
      ],
      "text/plain": [
       "<IPython.core.display.HTML object>"
      ]
     },
     "metadata": {},
     "output_type": "display_data"
    },
    {
     "data": {
      "text/html": [
       "Syncing run <strong><a href='https://wandb.ai/daiphat2312-fpt-university/roberta-emotion/runs/2qcemh6g' target=\"_blank\">roberta-multilabel-run1</a></strong> to <a href='https://wandb.ai/daiphat2312-fpt-university/roberta-emotion' target=\"_blank\">Weights & Biases</a> (<a href='https://wandb.me/developer-guide' target=\"_blank\">docs</a>)<br>"
      ],
      "text/plain": [
       "<IPython.core.display.HTML object>"
      ]
     },
     "metadata": {},
     "output_type": "display_data"
    },
    {
     "data": {
      "text/html": [
       " View project at <a href='https://wandb.ai/daiphat2312-fpt-university/roberta-emotion' target=\"_blank\">https://wandb.ai/daiphat2312-fpt-university/roberta-emotion</a>"
      ],
      "text/plain": [
       "<IPython.core.display.HTML object>"
      ]
     },
     "metadata": {},
     "output_type": "display_data"
    },
    {
     "data": {
      "text/html": [
       " View run at <a href='https://wandb.ai/daiphat2312-fpt-university/roberta-emotion/runs/2qcemh6g' target=\"_blank\">https://wandb.ai/daiphat2312-fpt-university/roberta-emotion/runs/2qcemh6g</a>"
      ],
      "text/plain": [
       "<IPython.core.display.HTML object>"
      ]
     },
     "metadata": {},
     "output_type": "display_data"
    },
    {
     "name": "stderr",
     "output_type": "stream",
     "text": [
      "c:\\anaconda\\envs\\nlp\\lib\\site-packages\\huggingface_hub\\file_download.py:943: FutureWarning: `resume_download` is deprecated and will be removed in version 1.0.0. Downloads always resume when possible. If you want to force a new download, use `force_download=True`.\n",
      "  warnings.warn(\n",
      "Some weights of RobertaForSequenceClassification were not initialized from the model checkpoint at roberta-base and are newly initialized: ['classifier.out_proj.weight', 'classifier.dense.weight', 'classifier.out_proj.bias', 'classifier.dense.bias']\n",
      "You should probably TRAIN this model on a down-stream task to be able to use it for predictions and inference.\n",
      "Training Epoch 1: 100%|██████████| 2171/2171 [06:24<00:00,  5.64it/s]\n"
     ]
    },
    {
     "name": "stdout",
     "output_type": "stream",
     "text": [
      "Epoch 1 - Train loss: 0.2570\n"
     ]
    },
    {
     "name": "stderr",
     "output_type": "stream",
     "text": [
      "Validating: 100%|██████████| 272/272 [00:12<00:00, 21.49it/s]\n"
     ]
    },
    {
     "name": "stdout",
     "output_type": "stream",
     "text": [
      "Epoch 1 - Val Macro F1: 0.5422, Hamming Loss: 0.0920, Subset Acc: 0.5927\n"
     ]
    },
    {
     "name": "stderr",
     "output_type": "stream",
     "text": [
      "Training Epoch 2: 100%|██████████| 2171/2171 [06:44<00:00,  5.36it/s]\n"
     ]
    },
    {
     "name": "stdout",
     "output_type": "stream",
     "text": [
      "Epoch 2 - Train loss: 0.2098\n"
     ]
    },
    {
     "name": "stderr",
     "output_type": "stream",
     "text": [
      "Validating: 100%|██████████| 272/272 [00:13<00:00, 20.11it/s]\n"
     ]
    },
    {
     "name": "stdout",
     "output_type": "stream",
     "text": [
      "Epoch 2 - Val Macro F1: 0.5831, Hamming Loss: 0.0901, Subset Acc: 0.6056\n"
     ]
    },
    {
     "name": "stderr",
     "output_type": "stream",
     "text": [
      "Training Epoch 3: 100%|██████████| 2171/2171 [06:45<00:00,  5.35it/s]\n"
     ]
    },
    {
     "name": "stdout",
     "output_type": "stream",
     "text": [
      "Epoch 3 - Train loss: 0.1838\n"
     ]
    },
    {
     "name": "stderr",
     "output_type": "stream",
     "text": [
      "Validating: 100%|██████████| 272/272 [00:13<00:00, 20.15it/s]\n"
     ]
    },
    {
     "name": "stdout",
     "output_type": "stream",
     "text": [
      "Epoch 3 - Val Macro F1: 0.5851, Hamming Loss: 0.0940, Subset Acc: 0.6012\n"
     ]
    },
    {
     "name": "stderr",
     "output_type": "stream",
     "text": [
      "Training Epoch 4: 100%|██████████| 2171/2171 [06:45<00:00,  5.36it/s]\n"
     ]
    },
    {
     "name": "stdout",
     "output_type": "stream",
     "text": [
      "Epoch 4 - Train loss: 0.1576\n"
     ]
    },
    {
     "name": "stderr",
     "output_type": "stream",
     "text": [
      "Validating: 100%|██████████| 272/272 [00:13<00:00, 20.12it/s]\n"
     ]
    },
    {
     "name": "stdout",
     "output_type": "stream",
     "text": [
      "Epoch 4 - Val Macro F1: 0.5848, Hamming Loss: 0.0975, Subset Acc: 0.5943\n"
     ]
    },
    {
     "name": "stderr",
     "output_type": "stream",
     "text": [
      "Training Epoch 5: 100%|██████████| 2171/2171 [06:41<00:00,  5.40it/s]\n"
     ]
    },
    {
     "name": "stdout",
     "output_type": "stream",
     "text": [
      "Epoch 5 - Train loss: 0.1367\n"
     ]
    },
    {
     "name": "stderr",
     "output_type": "stream",
     "text": [
      "Validating: 100%|██████████| 272/272 [00:13<00:00, 20.30it/s]\n"
     ]
    },
    {
     "name": "stdout",
     "output_type": "stream",
     "text": [
      "Epoch 5 - Val Macro F1: 0.5864, Hamming Loss: 0.0974, Subset Acc: 0.6006\n"
     ]
    },
    {
     "data": {
      "text/html": [],
      "text/plain": [
       "<IPython.core.display.HTML object>"
      ]
     },
     "metadata": {},
     "output_type": "display_data"
    },
    {
     "data": {
      "text/html": [
       "<br>    <style><br>        .wandb-row {<br>            display: flex;<br>            flex-direction: row;<br>            flex-wrap: wrap;<br>            justify-content: flex-start;<br>            width: 100%;<br>        }<br>        .wandb-col {<br>            display: flex;<br>            flex-direction: column;<br>            flex-basis: 100%;<br>            flex: 1;<br>            padding: 10px;<br>        }<br>    </style><br><div class=\"wandb-row\"><div class=\"wandb-col\"><h3>Run history:</h3><br/><table class=\"wandb\"><tr><td>epoch</td><td>▁▃▅▆█</td></tr><tr><td>train_loss</td><td>█▅▄▂▁</td></tr><tr><td>val_hamming_loss</td><td>▃▁▅██</td></tr><tr><td>val_macro_f1</td><td>▁▇███</td></tr><tr><td>val_subset_acc</td><td>▁█▆▂▅</td></tr></table><br/></div><div class=\"wandb-col\"><h3>Run summary:</h3><br/><table class=\"wandb\"><tr><td>epoch</td><td>5</td></tr><tr><td>train_loss</td><td>0.13666</td></tr><tr><td>val_hamming_loss</td><td>0.09738</td></tr><tr><td>val_macro_f1</td><td>0.58636</td></tr><tr><td>val_subset_acc</td><td>0.60055</td></tr></table><br/></div></div>"
      ],
      "text/plain": [
       "<IPython.core.display.HTML object>"
      ]
     },
     "metadata": {},
     "output_type": "display_data"
    },
    {
     "data": {
      "text/html": [
       " View run <strong style=\"color:#cdcd00\">roberta-multilabel-run1</strong> at: <a href='https://wandb.ai/daiphat2312-fpt-university/roberta-emotion/runs/2qcemh6g' target=\"_blank\">https://wandb.ai/daiphat2312-fpt-university/roberta-emotion/runs/2qcemh6g</a><br> View project at: <a href='https://wandb.ai/daiphat2312-fpt-university/roberta-emotion' target=\"_blank\">https://wandb.ai/daiphat2312-fpt-university/roberta-emotion</a><br>Synced 5 W&B file(s), 0 media file(s), 0 artifact file(s) and 5 other file(s)"
      ],
      "text/plain": [
       "<IPython.core.display.HTML object>"
      ]
     },
     "metadata": {},
     "output_type": "display_data"
    },
    {
     "data": {
      "text/html": [
       "Find logs at: <code>.\\wandb\\run-20250701_205828-2qcemh6g\\logs</code>"
      ],
      "text/plain": [
       "<IPython.core.display.HTML object>"
      ]
     },
     "metadata": {},
     "output_type": "display_data"
    }
   ],
   "source": [
    "from transformers import RobertaTokenizer, RobertaForSequenceClassification, get_linear_schedule_with_warmup\n",
    "import wandb\n",
    "from tqdm import tqdm\n",
    "import numpy as np\n",
    "from sklearn.metrics import f1_score, hamming_loss, accuracy_score\n",
    "\n",
    "wandb.init(\n",
    "    project=\"roberta-emotion\",\n",
    "    name=\"roberta-multilabel-run1\",\n",
    "    config={\n",
    "        \"model\": \"roberta-base\",\n",
    "        \"batch_size\": 16,\n",
    "        \"lr\": 2e-5,\n",
    "        \"epochs\": 10,\n",
    "    }\n",
    ")\n",
    "\n",
    "tokenizer = RobertaTokenizer.from_pretrained(\"roberta-base\")\n",
    "\n",
    "train_ds = EmotionDataset(train_df, tokenizer)\n",
    "val_ds = EmotionDataset(val_df, tokenizer)\n",
    "test_ds = EmotionDataset(test_df, tokenizer)\n",
    "\n",
    "train_loader = torch.utils.data.DataLoader(train_ds, batch_size=16, shuffle=True)\n",
    "val_loader = torch.utils.data.DataLoader(val_ds, batch_size=16)\n",
    "test_loader = torch.utils.data.DataLoader(test_ds, batch_size=16)\n",
    "\n",
    "device = torch.device(\"cuda\" if torch.cuda.is_available() else \"cpu\")\n",
    "model = RobertaForSequenceClassification.from_pretrained(\n",
    "    \"roberta-base\", num_labels=num_labels, problem_type=\"multi_label_classification\").to(device)\n",
    "\n",
    "optimizer = torch.optim.AdamW(model.parameters(), lr=2e-5)\n",
    "scheduler = get_linear_schedule_with_warmup(\n",
    "    optimizer, num_warmup_steps=0,\n",
    "    num_training_steps=len(train_loader) * 5)  # 5 epochs\n",
    "\n",
    "num_epochs = 5\n",
    "threshold = 0.5  # cắt nhị phân multi-label\n",
    "\n",
    "for epoch in range(num_epochs):\n",
    "    model.train()\n",
    "    total_loss = 0\n",
    "    for batch in tqdm(train_loader, desc=f\"Training Epoch {epoch+1}\"):\n",
    "        optimizer.zero_grad()\n",
    "        input_ids = batch['input_ids'].to(device)\n",
    "        attention_mask = batch['attention_mask'].to(device)\n",
    "        labels = batch['labels'].to(device).float()  # multi-label BCE expects float\n",
    "        \n",
    "        outputs = model(input_ids=input_ids, attention_mask=attention_mask, labels=labels)\n",
    "        loss = outputs.loss\n",
    "        loss.backward()\n",
    "        optimizer.step()\n",
    "        scheduler.step()\n",
    "        \n",
    "        total_loss += loss.item()\n",
    "    \n",
    "    avg_train_loss = total_loss / len(train_loader)\n",
    "    print(f\"Epoch {epoch+1} - Train loss: {avg_train_loss:.4f}\")\n",
    "\n",
    "    # ===== Validation =====\n",
    "    model.eval()\n",
    "    all_preds, all_labels = [], []\n",
    "    with torch.no_grad():\n",
    "        for batch in tqdm(val_loader, desc=\"Validating\"):\n",
    "            input_ids = batch['input_ids'].to(device)\n",
    "            attention_mask = batch['attention_mask'].to(device)\n",
    "            labels = batch['labels'].cpu().numpy()\n",
    "            \n",
    "            outputs = model(input_ids=input_ids, attention_mask=attention_mask)\n",
    "            logits = outputs.logits\n",
    "            probs = torch.sigmoid(logits).cpu().numpy()\n",
    "            preds = (probs >= threshold).astype(int)\n",
    "            \n",
    "            all_preds.append(preds)\n",
    "            all_labels.append(labels)\n",
    "    \n",
    "    all_preds = np.vstack(all_preds)\n",
    "    all_labels = np.vstack(all_labels)\n",
    "    \n",
    "    macro_f1 = f1_score(all_labels, all_preds, average=\"macro\", zero_division=0)\n",
    "    hamming = hamming_loss(all_labels, all_preds)\n",
    "    subset_acc = accuracy_score(all_labels, all_preds)  # strict: tất cả nhãn phải khớp\n",
    "    \n",
    "    print(f\"Epoch {epoch+1} - Val Macro F1: {macro_f1:.4f}, Hamming Loss: {hamming:.4f}, Subset Acc: {subset_acc:.4f}\")\n",
    "    \n",
    "    # Log lên wandb\n",
    "    wandb.log({\n",
    "        \"epoch\": epoch + 1,\n",
    "        \"train_loss\": avg_train_loss,\n",
    "        \"val_macro_f1\": macro_f1,\n",
    "        \"val_hamming_loss\": hamming,\n",
    "        \"val_subset_acc\": subset_acc,\n",
    "    })\n",
    "    \n",
    "    # Lưu model mỗi epoch\n",
    "    checkpoint_name = f\"roberta_multilabel_epoch{epoch+1}.pth\"\n",
    "    torch.save(model.state_dict(), checkpoint_name)\n",
    "    wandb.save(checkpoint_name)\n",
    "\n",
    "wandb.finish()\n"
   ]
  },
  {
   "cell_type": "code",
   "execution_count": 11,
   "metadata": {},
   "outputs": [
    {
     "name": "stderr",
     "output_type": "stream",
     "text": [
      "Predicting Test Set: 100%|██████████| 272/272 [00:12<00:00, 21.91it/s]\n"
     ]
    }
   ],
   "source": [
    "model.eval()\n",
    "all_test_preds = []\n",
    "\n",
    "with torch.no_grad():\n",
    "    for batch in tqdm(test_loader, desc=\"Predicting Test Set\"):\n",
    "        input_ids = batch['input_ids'].to(device)\n",
    "        attention_mask = batch['attention_mask'].to(device)\n",
    "\n",
    "        outputs = model(input_ids=input_ids, attention_mask=attention_mask)\n",
    "        logits = outputs.logits\n",
    "        probs = torch.sigmoid(logits).cpu().numpy()  # multi-label: dùng sigmoid\n",
    "\n",
    "        preds = (probs >= threshold).astype(int)  # threshold = 0.5\n",
    "        all_test_preds.append(preds)\n",
    "\n",
    "all_test_preds = np.vstack(all_test_preds)  # (num_samples, num_labels)\n",
    "\n"
   ]
  },
  {
   "cell_type": "code",
   "execution_count": 12,
   "metadata": {},
   "outputs": [
    {
     "data": {
      "image/png": "[encoded data removed]",
      "text/plain": [
       "<Figure size 1000x500 with 1 Axes>"
      ]
     },
     "metadata": {},
     "output_type": "display_data"
    },
    {
     "name": "stdout",
     "output_type": "stream",
     "text": [
      "✅ Đã lưu biểu đồ phân bố label vào label_distribution.png\n"
     ]
    }
   ],
   "source": [
    "import matplotlib.pyplot as plt\n",
    "import seaborn as sns\n",
    "\n",
    "# Lấy lại tên nhãn Ekman theo đúng thứ tự index\n",
    "ekman_labels = [index_to_ekman[i] for i in range(len(index_to_ekman))]\n",
    "\n",
    "# Đếm tổng số nhãn được dự đoán là 1 cho mỗi class\n",
    "label_counts = np.sum(all_test_preds, axis=0)\n",
    "\n",
    "plt.figure(figsize=(10, 5))\n",
    "sns.barplot(x=ekman_labels, y=label_counts)\n",
    "plt.title(\"Số lượng mẫu được dự đoán positive cho từng nhãn (test set)\")\n",
    "plt.ylabel(\"Số mẫu\")\n",
    "plt.xlabel(\"Nhãn Ekman\")\n",
    "plt.xticks(rotation=30)\n",
    "plt.tight_layout()\n",
    "plt.savefig(\"label_distribution.png\")\n",
    "plt.show()\n",
    "\n",
    "print(\"✅ Đã lưu biểu đồ phân bố label vào label_distribution.png\")\n"
   ]
  }
 ],
 "metadata": {
  "kernelspec": {
   "display_name": "Python 3",
   "language": "python",
   "name": "python3"
  },
  "language_info": {
   "codemirror_mode": {
    "name": "ipython",
    "version": 3
   },
   "file_extension": ".py",
   "mimetype": "text/x-python",
   "name": "python",
   "nbconvert_exporter": "python",
   "pygments_lexer": "ipython3",
   "version": "3.10.18"
  }
 },
 "nbformat": 4,
 "nbformat_minor": 2
}
